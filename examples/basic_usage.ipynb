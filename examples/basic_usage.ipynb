{
 "cells": [
  {
   "cell_type": "code",
   "execution_count": 1,
   "metadata": {},
   "outputs": [],
   "source": [
    "from labgraph import Sample, Material, Action, Measurement, Analysis, Ingredient, WholeIngredient, Actor, AnalysisMethod\n",
    "import labgraph.views as views\n",
    "from labgraph.utils.dev import drop_collections"
   ]
  },
  {
   "cell_type": "code",
   "execution_count": 2,
   "metadata": {},
   "outputs": [],
   "source": [
    "drop_collections() #clear the whole database"
   ]
  },
  {
   "cell_type": "markdown",
   "metadata": {},
   "source": [
    "# 1. Defining Actors and AnalysisMethods \n",
    "\n",
    "These entries allow us to track which hardware, software, and operators are performing tasks within the experimental database.\n",
    "\n",
    "`Actor`s perform synthesis `Action`s and `Measurements`. `AnalysisMethods` convert raw `Measurement`s into some useful metrics\n",
    "\n",
    "You only need to _add_ `Actor`s and `AnalysisMethods` once. In the future, you can pull these entries from the database to relate them to incoming data"
   ]
  },
  {
   "cell_type": "markdown",
   "metadata": {},
   "source": [
    "Add or pull all Actor's from the ActorView"
   ]
  },
  {
   "cell_type": "code",
   "execution_count": 3,
   "metadata": {},
   "outputs": [],
   "source": [
    "actorview = views.ActorView() #this is our interface to the Actor database collection"
   ]
  },
  {
   "cell_type": "code",
   "execution_count": 4,
   "metadata": {},
   "outputs": [
    {
     "data": {
      "text/plain": [
       "[]"
      ]
     },
     "execution_count": 4,
     "metadata": {},
     "output_type": "execute_result"
    }
   ],
   "source": [
    "actorview.get_by_tags([\"SolidStateALab\"]) #nothing yet\n"
   ]
  },
  {
   "cell_type": "code",
   "execution_count": 5,
   "metadata": {},
   "outputs": [
    {
     "data": {
      "text/plain": [
       "ObjectId('633b293600b3159491481566')"
      ]
     },
     "execution_count": 5,
     "metadata": {},
     "output_type": "execute_result"
    }
   ],
   "source": [
    "labman = Actor(\n",
    "    name=\"LabMan 30-105\", \n",
    "    tags=[\"SolidStateALab\"],\n",
    "    description=\"A robotic system that weighs and mixes powders in crucibles. Used to prepare samples for firing in furnaces. This is in building 30-105 at Lawrence Berkeley National Laboratory.\")\n",
    "\n",
    "tubefurnace1 = Actor(\n",
    "    name=\"TubeFurnace1 30-105\", \n",
    "    tags=[\"SolidStateALab\"],\n",
    "    description=\"A tube furnace in building 30-105 at Lawrence Berkeley National Laboratory.\")\n",
    "\n",
    "aeris = Actor(\n",
    "    name=\"Aeris 30-105\",\n",
    "    tags=[\"SolidStateALab\"],\n",
    "    description=\"An x-ray diffractometer. This is in building 30-105 at Lawrence Berkeley National Laboratory.\")\n",
    "\n",
    "operator = Actor(\n",
    "    name=\"Operator\",\n",
    "    description = \"A generic actor for any operation performed by a human. No need to name names!\")\n",
    "    \n",
    "actorview.add(labman)\n",
    "actorview.add(tubefurnace1)\n",
    "actorview.add(aeris)\n",
    "actorview.add(operator)"
   ]
  },
  {
   "cell_type": "code",
   "execution_count": 6,
   "metadata": {},
   "outputs": [
    {
     "data": {
      "text/plain": [
       "[<Actor: LabMan 30-105>, <Actor: TubeFurnace1 30-105>, <Actor: Aeris 30-105>]"
      ]
     },
     "execution_count": 6,
     "metadata": {},
     "output_type": "execute_result"
    }
   ],
   "source": [
    "actorview.get_by_tags([\"SolidStateALab\"])   #now we can find actors by tags"
   ]
  },
  {
   "cell_type": "code",
   "execution_count": 7,
   "metadata": {},
   "outputs": [
    {
     "data": {
      "text/plain": [
       "[<Actor: LabMan 30-105>]"
      ]
     },
     "execution_count": 7,
     "metadata": {},
     "output_type": "execute_result"
    }
   ],
   "source": [
    "labman = actorview.get_by_name(\"LabMan 30-105\")\n",
    "labman"
   ]
  },
  {
   "cell_type": "code",
   "execution_count": 8,
   "metadata": {},
   "outputs": [
    {
     "data": {
      "text/plain": [
       "[<Actor: LabMan 30-105>]"
      ]
     },
     "execution_count": 8,
     "metadata": {},
     "output_type": "execute_result"
    }
   ],
   "source": [
    "actorview.filter(\n",
    "    {\"name\": \"LabMan 30-105\",\n",
    "     \"tags\": \"SolidStateALab\"\n",
    "}) #if you are comfortable with MongoDB queries, you can use the filter method"
   ]
  },
  {
   "cell_type": "markdown",
   "metadata": {},
   "source": [
    "Add or pull all analysis methods from AnalysisMethodView"
   ]
  },
  {
   "cell_type": "code",
   "execution_count": 9,
   "metadata": {},
   "outputs": [],
   "source": [
    "analysismethodview = views.AnalysisMethodView()"
   ]
  },
  {
   "cell_type": "code",
   "execution_count": 10,
   "metadata": {},
   "outputs": [
    {
     "data": {
      "text/plain": [
       "ObjectId('633b293700b315949148156c')"
      ]
     },
     "execution_count": 10,
     "metadata": {},
     "output_type": "execute_result"
    }
   ],
   "source": [
    "cnn_phaseID = AnalysisMethod(\n",
    "    name=\"CNN Phase ID\", \n",
    "    tags=[\"SolidStateALab\", \"machinelearning\"],\n",
    "    description=\"A convolutional neural network trained to identify phases in x-ray diffraction patterns. doi: something/something\")\n",
    "\n",
    "analysismethodview.add(cnn_phaseID)"
   ]
  },
  {
   "cell_type": "code",
   "execution_count": 11,
   "metadata": {},
   "outputs": [
    {
     "data": {
      "text/plain": [
       "[<AnalysisMethod: CNN Phase ID>]"
      ]
     },
     "execution_count": 11,
     "metadata": {},
     "output_type": "execute_result"
    }
   ],
   "source": [
    "analysismethodview.get_by_name(\"CNN Phase ID\")"
   ]
  },
  {
   "cell_type": "code",
   "execution_count": 12,
   "metadata": {},
   "outputs": [
    {
     "data": {
      "text/plain": [
       "[<AnalysisMethod: CNN Phase ID>]"
      ]
     },
     "execution_count": 12,
     "metadata": {},
     "output_type": "execute_result"
    }
   ],
   "source": [
    "analysismethodview.filter(\n",
    "    {\"tags\": {\"$all\": [\"machinelearning\", \"SolidStateALab\"]}}\n",
    ")"
   ]
  },
  {
   "cell_type": "markdown",
   "metadata": {},
   "source": [
    "# 2. Entering experimental data into the database"
   ]
  },
  {
   "cell_type": "markdown",
   "metadata": {},
   "source": [
    "First, we must define the individual nodes (`Action`, `Material`, `Measurement`, and `Analysis`) that will comprise the experimental steps and data for a given `Sample`"
   ]
  },
  {
   "cell_type": "code",
   "execution_count": 13,
   "metadata": {},
   "outputs": [],
   "source": [
    "m0 = Material(\n",
    "    name=\"Titanium Dioxide\",\n",
    "    formula=\"TiO2\",\n",
    ")\n",
    "\n",
    "p0 = Action(    \n",
    "    name=\"procurement\",\n",
    "    generated_materials=[m0],\n",
    "    actor=operator,\n",
    ")"
   ]
  },
  {
   "cell_type": "code",
   "execution_count": 14,
   "metadata": {},
   "outputs": [],
   "source": [
    "p1 = Action(\n",
    "    \"grind\",\n",
    "    ingredients = [\n",
    "        Ingredient(\n",
    "            material=m0,\n",
    "            amount=1,\n",
    "            unit=\"g\",\n",
    "        )\n",
    "    ],\n",
    "    actor=operator,\n",
    "    )\n",
    "m1 = p1.make_generic_generated_material()\n",
    "\n",
    "p2 = Action(\"sinter\", ingredients = [WholeIngredient(m1)], actor=tubefurnace1)\n",
    "m2 = p2.make_generic_generated_material()\n",
    "\n",
    "p3 = Action(\"grind\", ingredients = [WholeIngredient(m2)], actor=operator, final_step=True)\n",
    "m3 = p3.make_generic_generated_material()\n",
    "\n",
    "me0 = Measurement(\n",
    "    name=\"XRD\",\n",
    "    material=m3,\n",
    "    actor=aeris,\n",
    ")\n",
    "\n",
    "a0 = Analysis(\n",
    "    name=\"Phase Identification\",\n",
    "    measurements=[me0],\n",
    "    analysis_method=cnn_phaseID\n",
    ")"
   ]
  },
  {
   "cell_type": "markdown",
   "metadata": {},
   "source": [
    "Next, we will assign these nodes to a single `Sample`. This can be done manually in a few ways:"
   ]
  },
  {
   "cell_type": "code",
   "execution_count": 15,
   "metadata": {},
   "outputs": [],
   "source": [
    "all_nodes = [p0, m0, p1, m1, p2, m2, p3, m3, me0, a0]\n",
    "\n",
    "#if you have all nodes beforehand\n",
    "s = Sample(name=\"first_sample\", nodes=all_nodes)\n",
    "\n",
    "#if you build nodes as you go. Maybe you want to build up the Sample object during the experiment?\n",
    "s = Sample(name=\"first_sample_again\")\n",
    "for n in all_nodes:\n",
    "    s.add_node(n)"
   ]
  },
  {
   "cell_type": "markdown",
   "metadata": {},
   "source": [
    "We can check that the nodes within the Sample constitute a valid directed acyclic graph (DAG).\n",
    "\n",
    "If this returns `False`, we didn't connect the nodes correctly."
   ]
  },
  {
   "cell_type": "code",
   "execution_count": 16,
   "metadata": {},
   "outputs": [
    {
     "data": {
      "text/plain": [
       "True"
      ]
     },
     "execution_count": 16,
     "metadata": {},
     "output_type": "execute_result"
    }
   ],
   "source": [
    "s.has_valid_graph()"
   ]
  },
  {
   "cell_type": "markdown",
   "metadata": {},
   "source": [
    "Up til now, the `Sample` object only lives in this notebook. Now we need to upload it into the database."
   ]
  },
  {
   "cell_type": "code",
   "execution_count": 17,
   "metadata": {},
   "outputs": [],
   "source": [
    "from labgraph.views.groups import SampleView\n",
    "sv = SampleView()"
   ]
  },
  {
   "cell_type": "markdown",
   "metadata": {},
   "source": [
    "`SampleView.add(sample)` does a few things. \n",
    "\n",
    "- First, it ensures that new nodes will not break the graph structures of the total database (at this point, ensures no dangling nodes)\n",
    "- Second, it uploads the individual nodes into their respective collections\n",
    "- Finally, it uploads the `Sample` entry to the sample collection, which maps the `Sample` to the individual nodes."
   ]
  },
  {
   "cell_type": "code",
   "execution_count": 18,
   "metadata": {},
   "outputs": [
    {
     "data": {
      "text/plain": [
       "ObjectId('633b293800b315949148157a')"
      ]
     },
     "execution_count": 18,
     "metadata": {},
     "output_type": "execute_result"
    }
   ],
   "source": [
    "sv.add(s)"
   ]
  },
  {
   "cell_type": "code",
   "execution_count": 19,
   "metadata": {},
   "outputs": [],
   "source": [
    "s1 = sv.get(s.id)"
   ]
  },
  {
   "cell_type": "code",
   "execution_count": 20,
   "metadata": {},
   "outputs": [
    {
     "data": {
      "text/plain": [
       "[<Sample: first_sample_again>]"
      ]
     },
     "execution_count": 20,
     "metadata": {},
     "output_type": "execute_result"
    }
   ],
   "source": [
    "sv.get_by_name(\"first_sample_again\")"
   ]
  },
  {
   "cell_type": "code",
   "execution_count": 21,
   "metadata": {},
   "outputs": [
    {
     "data": {
      "text/plain": [
       "True"
      ]
     },
     "execution_count": 21,
     "metadata": {},
     "output_type": "execute_result"
    }
   ],
   "source": [
    "s1 == s"
   ]
  },
  {
   "cell_type": "markdown",
   "metadata": {},
   "source": [
    "We cannot add the same sample twice. If you have duplicate samples, you should rebuild a new `Sample` object instance."
   ]
  },
  {
   "cell_type": "code",
   "execution_count": 22,
   "metadata": {},
   "outputs": [
    {
     "ename": "ValueError",
     "evalue": "Sample (name=first_sample_again, id=633b293800b315949148157a) already exists in the database!",
     "output_type": "error",
     "traceback": [
      "\u001b[0;31m---------------------------------------------------------------------------\u001b[0m",
      "\u001b[0;31mValueError\u001b[0m                                Traceback (most recent call last)",
      "\u001b[1;32m/Users/REKumar/GitHub/alab_data/examples/basic_usage.ipynb Cell 32\u001b[0m in \u001b[0;36m<cell line: 1>\u001b[0;34m()\u001b[0m\n\u001b[0;32m----> <a href='vscode-notebook-cell:/Users/REKumar/GitHub/alab_data/examples/basic_usage.ipynb#X36sZmlsZQ%3D%3D?line=0'>1</a>\u001b[0m sv\u001b[39m.\u001b[39;49madd(s1)\n",
      "File \u001b[0;32m~/GitHub/alab_data/alab_data/views/groups.py:40\u001b[0m, in \u001b[0;36mSampleView.add\u001b[0;34m(self, entry)\u001b[0m\n\u001b[1;32m     38\u001b[0m     \u001b[39mpass\u001b[39;00m\n\u001b[1;32m     39\u001b[0m \u001b[39mif\u001b[39;00m found_in_db:\n\u001b[0;32m---> 40\u001b[0m     \u001b[39mraise\u001b[39;00m \u001b[39mValueError\u001b[39;00m(\n\u001b[1;32m     41\u001b[0m         \u001b[39mf\u001b[39m\u001b[39m\"\u001b[39m\u001b[39m{\u001b[39;00m\u001b[39mself\u001b[39m\u001b[39m.\u001b[39m_entry_class\u001b[39m.\u001b[39m\u001b[39m__name__\u001b[39m\u001b[39m}\u001b[39;00m\u001b[39m (name=\u001b[39m\u001b[39m{\u001b[39;00mentry\u001b[39m.\u001b[39mname\u001b[39m}\u001b[39;00m\u001b[39m, id=\u001b[39m\u001b[39m{\u001b[39;00mentry\u001b[39m.\u001b[39mid\u001b[39m}\u001b[39;00m\u001b[39m) already exists in the database!\u001b[39m\u001b[39m\"\u001b[39m\n\u001b[1;32m     42\u001b[0m     )\n\u001b[1;32m     44\u001b[0m \u001b[39m# TODO check all nodes before uploading so we dont put half the nodes in before hitting a snag.\u001b[39;00m\n\u001b[1;32m     45\u001b[0m \u001b[39mif\u001b[39;00m \u001b[39mnot\u001b[39;00m \u001b[39mself\u001b[39m\u001b[39m.\u001b[39m_has_valid_graph_in_db(entry):\n",
      "\u001b[0;31mValueError\u001b[0m: Sample (name=first_sample_again, id=633b293800b315949148157a) already exists in the database!"
     ]
    }
   ],
   "source": [
    "sv.add(s1)"
   ]
  },
  {
   "cell_type": "markdown",
   "metadata": {},
   "source": [
    "## Shortcut to building `Sample`'s with a simple, linear process\n",
    "\n",
    "As experimentalists, we often only know the initial `Material`'s and the sequence of synthesis `Action`'s. This is a simple linear graph, for which we have a shortcut method to skip the tedium of generating intermediate `Material`'s with which we do nothing.\n",
    "\n",
    "Define your `Action`s as well as you can (_ie_ fill in the ingredients and generated_materials wherever possible). The rest will be filled in with generic, placeholder `Material`'s to stitch the `Action`'s into a valid graph."
   ]
  },
  {
   "cell_type": "code",
   "execution_count": 23,
   "metadata": {},
   "outputs": [],
   "source": [
    "# I know the starting material quite well, so I define it as usual.\n",
    "m0 = Material(\n",
    "    name=\"Titanium Dioxide\",\n",
    "    formula=\"TiO2\",\n",
    ")\n",
    "\n",
    "p0 = Action(    \n",
    "    name=\"procurement\",\n",
    "    generated_materials=[m0],\n",
    "    actor=operator,\n",
    ")"
   ]
  },
  {
   "cell_type": "code",
   "execution_count": 24,
   "metadata": {},
   "outputs": [],
   "source": [
    "# I know what was done by which actors, but thats about it.\n",
    "p1 = Action(\n",
    "    \"grind\",\n",
    "    actor=operator,\n",
    "    )\n",
    "p2 = Action(\"sinter\", actor=tubefurnace1)\n",
    "p3 = Action(\"grind\", actor=operator, final_step=True)"
   ]
  },
  {
   "cell_type": "markdown",
   "metadata": {},
   "source": [
    "Now I can use the shortcut to build the linear `... Action -> Material -> Action ...` graph."
   ]
  },
  {
   "cell_type": "code",
   "execution_count": 25,
   "metadata": {},
   "outputs": [],
   "source": [
    "# I know that the processes will generate materials in a pipeline, so lets add them as a linear process\n",
    "s = Sample(name=\"shortcut_sample\")\n",
    "s.add_linear_process(actions=[p0, p1, p2, p3])"
   ]
  },
  {
   "cell_type": "code",
   "execution_count": 26,
   "metadata": {},
   "outputs": [
    {
     "data": {
      "text/plain": [
       "True"
      ]
     },
     "execution_count": 26,
     "metadata": {},
     "output_type": "execute_result"
    }
   ],
   "source": [
    "# I also know that I measured the output of the linear process. This is the latest node in the graph -- the output Material from the final Action.\n",
    "\n",
    "m_final = s.nodes[-1]\n",
    "\n",
    "me0 = Measurement(\n",
    "    name=\"XRD\",\n",
    "    material=m_final,\n",
    "    actor=aeris,\n",
    ")\n",
    "\n",
    "a0 = Analysis(\n",
    "    name=\"Phase Identification\",\n",
    "    measurements=[me0],\n",
    "    analysis_method=cnn_phaseID\n",
    ")\n",
    "\n",
    "s.add_node(me0)\n",
    "s.add_node(a0)\n",
    "s.has_valid_graph()"
   ]
  },
  {
   "cell_type": "code",
   "execution_count": 27,
   "metadata": {},
   "outputs": [
    {
     "data": {
      "text/plain": [
       "ObjectId('633b293b00b31594914815d4')"
      ]
     },
     "execution_count": 27,
     "metadata": {},
     "output_type": "execute_result"
    }
   ],
   "source": [
    "sv.add(s)"
   ]
  },
  {
   "cell_type": "markdown",
   "metadata": {},
   "source": [
    "-----"
   ]
  },
  {
   "cell_type": "markdown",
   "metadata": {},
   "source": [
    "# 3. A realistic example\n",
    "\n",
    "In the prior examples, only the required information has been provided to generate the experiment graph + add to the database. In real life, we want to attach metadata (process parameters, measured data, etc) to the graph nodes. This is pretty easy -- just pass them as additional keyword arguments when you define the nodes. Here is the same example, but with some metadata attached."
   ]
  },
  {
   "cell_type": "markdown",
   "metadata": {},
   "source": [
    "Lets import all the views we need to get the `Actor`s and `AnalysisMethod`s for our new data"
   ]
  },
  {
   "cell_type": "code",
   "execution_count": 28,
   "metadata": {},
   "outputs": [],
   "source": [
    "from labgraph import views\n",
    "sv = views.SampleView()\n",
    "actorview = views.ActorView()\n",
    "analysismethodview = views.AnalysisMethodView()"
   ]
  },
  {
   "cell_type": "markdown",
   "metadata": {},
   "source": [
    "## Procurement step -- generating Material's to be used by downstream Samples\n",
    "\n",
    "We purchased some new chemicals (ie `Material`s), which should be added into the database. Once in the database, they can be referenced by nodes for a future `Sample`"
   ]
  },
  {
   "cell_type": "code",
   "execution_count": 29,
   "metadata": {},
   "outputs": [],
   "source": [
    "operator = actorview.get_by_name(\"Operator\")[0]"
   ]
  },
  {
   "cell_type": "code",
   "execution_count": 30,
   "metadata": {},
   "outputs": [
    {
     "data": {
      "text/plain": [
       "ObjectId('633b293d00b31594914815df')"
      ]
     },
     "execution_count": 30,
     "metadata": {},
     "output_type": "execute_result"
    }
   ],
   "source": [
    "tio2 = Material(\n",
    "    name=\"Titanium Dioxide\",\n",
    "    formula=\"TiO2\",\n",
    "    serial_number = \"ABC123\",\n",
    ")\n",
    "\n",
    "p0 = Action(    \n",
    "    name=\"procurement\",\n",
    "    supplier=\"Alfa Aesar\",\n",
    "    CAS_number = \"13463-67-7\",\n",
    "    price = \"$100/gram\",\n",
    "    generated_materials=[tio2],\n",
    "    actor=operator,\n",
    ")\n",
    "\n",
    "bi2o3 = Material(\n",
    "    name = \"Bismuth Oxide\",\n",
    "    formula = \"Bi2O3\",\n",
    "    serial_number = \"XYZ789\",\n",
    ")\n",
    "\n",
    "p1 = Action(\n",
    "    name=\"procurement\",\n",
    "    supplier=\"Alfa Aesar\",\n",
    "    CAS_number = \"1303-96-4\",\n",
    "    price = \"$100/gram\",\n",
    "    generated_materials=[bi2o3],\n",
    "    actor=operator,\n",
    ")\n",
    "\n",
    "### A Sample is, at a high level, just a way to group nodes together. We can consider the process of chemical procurement on this day as a Sample.\n",
    "s = Sample(\n",
    "    name=\"20220930 Chemical Procurement\", \n",
    "    nodes=[tio2, p0, bi2o3, p1]\n",
    ")\n",
    "sv.add(s)\n"
   ]
  },
  {
   "cell_type": "markdown",
   "metadata": {},
   "source": [
    "## An actual Sample -- Actions, Measurements, and Analyses that use the procured Materials"
   ]
  },
  {
   "cell_type": "markdown",
   "metadata": {},
   "source": [
    "Pull the necessary actors and analysis methods"
   ]
  },
  {
   "cell_type": "code",
   "execution_count": 31,
   "metadata": {},
   "outputs": [],
   "source": [
    "operator = actorview.get_by_name(\"Operator\")[0]\n",
    "tubefurnace1 = actorview.get_by_name(\"TubeFurnace1 30-105\")[0]\n",
    "aeris = actorview.get_by_name(\"Aeris 30-105\")[0]\n",
    "\n",
    "cnn_phaseID = analysismethodview.get_by_name(\"CNN Phase ID\")[0]"
   ]
  },
  {
   "cell_type": "markdown",
   "metadata": {},
   "source": [
    "Pull the necessary Materials"
   ]
  },
  {
   "cell_type": "code",
   "execution_count": 32,
   "metadata": {},
   "outputs": [],
   "source": [
    "mv = views.MaterialView()\n",
    "\n",
    "tio2 = mv.filter({\n",
    "    \"name\": \"Titanium Dioxide\",\n",
    "    \"serial_number\": \"ABC123\" #this is the serial number of the specific bottle I used \n",
    "})[0]\n",
    "\n",
    "bi2o3 = mv.filter({\n",
    "    \"name\": \"Bismuth Oxide\",\n",
    "    \"serial_number\": \"XYZ789\" #this is the serial number of the specific bottle I used\n",
    "})[0]"
   ]
  },
  {
   "cell_type": "code",
   "execution_count": 33,
   "metadata": {},
   "outputs": [],
   "source": [
    "# I know what was done by which actors, but thats about it.\n",
    "p1 = Action(\n",
    "    \"grind\",\n",
    "    ingredients = [\n",
    "        Ingredient(\n",
    "            material=tio2,\n",
    "            amount = 1,\n",
    "            unit=\"g\"\n",
    "        ),\n",
    "        Ingredient(\n",
    "            material=bi2o3,\n",
    "            amount = 2,\n",
    "            unit=\"g\"\n",
    "        )\n",
    "    ],\n",
    "    actor=operator,\n",
    "    instrument=\"mortar and pestle\",\n",
    "    duration=\"1 hour\",\n",
    "    )\n",
    "p2 = Action(\n",
    "    \"sinter\", \n",
    "    actor=tubefurnace1, \n",
    "    temperature_celsius=1000,\n",
    "    duration_hours = 4,\n",
    ")\n",
    "p3 = Action(\n",
    "    \"grind\", \n",
    "    actor=operator, \n",
    "    final_step=True,\n",
    "    instrument=\"mortar and pestle\",\n",
    "    duration=\"1 hour\", #sounds like a rough day\n",
    "    )"
   ]
  },
  {
   "cell_type": "code",
   "execution_count": 34,
   "metadata": {},
   "outputs": [],
   "source": [
    "s = Sample(name=\"realistic_sample\")\n",
    "s.add_linear_process(actions=[p1, p2, p3])"
   ]
  },
  {
   "cell_type": "code",
   "execution_count": 35,
   "metadata": {},
   "outputs": [],
   "source": [
    "# I also know that I measured the outputs of p3. I'll make a generic output material to link to the Measurement.\n",
    "\n",
    "m_final = s.nodes[-1]\n",
    "\n",
    "me0 = Measurement(\n",
    "    name=\"XRD\",\n",
    "    material=m_final,\n",
    "    actor=aeris,\n",
    "    settings = {\n",
    "        \"angle_min\": 10,\n",
    "        \"angle_max\": 80,\n",
    "        \"angle_step\": 0.1,\n",
    "        \"exposure_time\": 0.1,\n",
    "    },\n",
    "    data = {\n",
    "        \"x\": [10, 20, 30, 40, 50, 60, 70, 80],\n",
    "        \"y\": [0.1, 0.2, 0.3, 0.4, 0.5, 0.6, 0.7, 0.8],\n",
    "    }\n",
    ")\n",
    "\n",
    "a0 = Analysis(\n",
    "    name=\"Phase Identification\",\n",
    "    measurements=[me0],\n",
    "    analysis_method=cnn_phaseID,\n",
    "    results = [\n",
    "        {\"phase\": \"TiO2\", \"ICSD_coll\": 1234, \"fraction\": 0.9},\n",
    "        {\"phase\": \"TiO\", \"ICSD_coll\": 5678, \"fraction\": 0.1},\n",
    "    ]\n",
    ")\n",
    "\n",
    "s.add_node(me0)\n",
    "s.add_node(a0)"
   ]
  },
  {
   "cell_type": "code",
   "execution_count": 36,
   "metadata": {},
   "outputs": [
    {
     "data": {
      "text/plain": [
       "True"
      ]
     },
     "execution_count": 36,
     "metadata": {},
     "output_type": "execute_result"
    }
   ],
   "source": [
    "s.has_valid_graph()"
   ]
  },
  {
   "cell_type": "code",
   "execution_count": 37,
   "metadata": {},
   "outputs": [
    {
     "data": {
      "text/plain": [
       "ObjectId('633b293f00b31594914815e9')"
      ]
     },
     "execution_count": 37,
     "metadata": {},
     "output_type": "execute_result"
    }
   ],
   "source": [
    "sv.add(s)"
   ]
  },
  {
   "cell_type": "code",
   "execution_count": 38,
   "metadata": {},
   "outputs": [
    {
     "data": {
      "text/plain": [
       "[<Material: Titanium Dioxide>,\n",
       " <Material: Bismuth Oxide>,\n",
       " <Action: grind>,\n",
       " <Material: Titanium Dioxide+Bismuth Oxide - grind>,\n",
       " <Action: sinter>,\n",
       " <Material: Titanium Dioxide+Bismuth Oxide - grind - sinter>,\n",
       " <Action: grind>,\n",
       " <Material: Titanium Dioxide+Bismuth Oxide - grind - sinter - grind>,\n",
       " <Measurement: XRD>,\n",
       " <Analysis: Phase Identification>]"
      ]
     },
     "execution_count": 38,
     "metadata": {},
     "output_type": "execute_result"
    }
   ],
   "source": [
    "s.nodes"
   ]
  },
  {
   "cell_type": "code",
   "execution_count": 39,
   "metadata": {},
   "outputs": [
    {
     "data": {
      "image/png": "[encoded data removed]",
      "text/plain": [
       "<Figure size 640x480 with 1 Axes>"
      ]
     },
     "metadata": {},
     "output_type": "display_data"
    }
   ],
   "source": [
    "s.plot() #the unlabeled nodes are not contained within this Sample, but are referenced by nodes within this Sample"
   ]
  },
  {
   "cell_type": "markdown",
   "metadata": {},
   "source": [
    "-----"
   ]
  },
  {
   "cell_type": "markdown",
   "metadata": {},
   "source": [
    "# 4. Pulling data out of the database"
   ]
  },
  {
   "cell_type": "code",
   "execution_count": 40,
   "metadata": {},
   "outputs": [],
   "source": [
    "import datetime"
   ]
  },
  {
   "cell_type": "code",
   "execution_count": 41,
   "metadata": {},
   "outputs": [
    {
     "name": "stdout",
     "output_type": "stream",
     "text": [
      "[<Material: Titanium Dioxide>]\n"
     ]
    }
   ],
   "source": [
    "matview = views.MaterialView()\n",
    "\n",
    "mats = matview.filter(\n",
    "    {\"serial_number\": \"ABC123\"},\n",
    ")\n",
    "print(mats)\n",
    "m = mats[-1]\n"
   ]
  },
  {
   "cell_type": "code",
   "execution_count": 45,
   "metadata": {},
   "outputs": [
    {
     "name": "stdout",
     "output_type": "stream",
     "text": [
      "[<Sample: realistic_sample>, <Sample: 20220930 Chemical Procurement>]\n"
     ]
    }
   ],
   "source": [
    "samples = sv.get_by_material_node(m.id) #returns all Samples that contain a material node with the given id\n",
    "print(samples)"
   ]
  },
  {
   "cell_type": "markdown",
   "metadata": {},
   "source": [
    "## Comparing Sample's"
   ]
  },
  {
   "cell_type": "markdown",
   "metadata": {},
   "source": [
    "We can visually inspect `Sample` graphs "
   ]
  },
  {
   "cell_type": "code",
   "execution_count": 48,
   "metadata": {},
   "outputs": [
    {
     "data": {
      "image/png": "[encoded data removed]",
      "text/plain": [
       "<Figure size 640x480 with 1 Axes>"
      ]
     },
     "metadata": {},
     "output_type": "display_data"
    }
   ],
   "source": [
    "s = samples[-1]\n",
    "s.plot()"
   ]
  },
  {
   "cell_type": "code",
   "execution_count": 50,
   "metadata": {},
   "outputs": [
    {
     "data": {
      "image/png": "[encoded data removed]",
      "text/plain": [
       "<Figure size 640x480 with 1 Axes>"
      ]
     },
     "metadata": {},
     "output_type": "display_data"
    }
   ],
   "source": [
    "s = samples[0]\n",
    "s.plot()"
   ]
  },
  {
   "cell_type": "markdown",
   "metadata": {},
   "source": [
    "We often want to know whether `Sample`s can be compared. One way to evaluate this is to check if they followed the same processing steps (ie the same sequence of `Action`s). We can check this as the graph edit distance between graphs of only the Action nodes.\n",
    "\n",
    "`action_sequence_distance` computes the number of edits to the action sequence to make the two Sample's identical. Note that this only considers that the _name_ of the `Action`s are the same (eg two grinding steps with different durations will be considered equivalent)"
   ]
  },
  {
   "cell_type": "code",
   "execution_count": 53,
   "metadata": {},
   "outputs": [
    {
     "name": "stdout",
     "output_type": "stream",
     "text": [
      "[<Sample: realistic_sample>, <Sample: 20220930 Chemical Procurement>]\n"
     ]
    },
    {
     "data": {
      "text/plain": [
       "3.0"
      ]
     },
     "execution_count": 53,
     "metadata": {},
     "output_type": "execute_result"
    }
   ],
   "source": [
    "from labgraph.data.groups import action_sequence_distance\n",
    "print(samples)\n",
    "\n",
    "action_sequence_distance(samples[1], samples[0]) "
   ]
  },
  {
   "cell_type": "markdown",
   "metadata": {},
   "source": [
    "### If we have a prototypical Sample (whether in the database or not), we can filter Sample lists to have the same action sequences"
   ]
  },
  {
   "cell_type": "markdown",
   "metadata": {},
   "source": [
    "Make the prototype sample"
   ]
  },
  {
   "cell_type": "code",
   "execution_count": 78,
   "metadata": {},
   "outputs": [],
   "source": [
    "# I know what was done by which actors, but thats about it.\n",
    "p1 = Action(\n",
    "    \"grind\",\n",
    "    actor=operator,\n",
    "    instrument=\"mortar and pestle\",\n",
    "    duration=\"1 hour\",\n",
    "    )\n",
    "p2 = Action(\n",
    "    \"sinter\", \n",
    "    actor=tubefurnace1, \n",
    "    temperature_celsius=1000,\n",
    "    duration_hours = 4,\n",
    ")\n",
    "p3 = Action(\n",
    "    \"grind\", \n",
    "    actor=operator, \n",
    "    final_step=True,\n",
    "    instrument=\"mortar and pestle\",\n",
    "    duration=\"1 hour\", #sounds like a rough day\n",
    "    )\n",
    "\n",
    "prototype_sample = Sample(\"whatever, we wont be uploading this\")\n",
    "prototype_sample.add_linear_process([p1, p2, p3])"
   ]
  },
  {
   "cell_type": "code",
   "execution_count": 75,
   "metadata": {},
   "outputs": [
    {
     "name": "stdout",
     "output_type": "stream",
     "text": [
      "<Sample: realistic_sample>:0.0\t Match!\n",
      "<Sample: 20220930 Chemical Procurement>:3.0\t No Match\n"
     ]
    }
   ],
   "source": [
    "for s in samples:\n",
    "    d = action_sequence_distance(prototype_sample, s)\n",
    "    result = \"Match!\" if d == 0 else \"No Match\"\n",
    "    print(f\"{s}:{d}\\t {result}\")"
   ]
  }
 ],
 "metadata": {
  "kernelspec": {
   "display_name": "Python 3.8.13 ('alab_data')",
   "language": "python",
   "name": "python3"
  },
  "language_info": {
   "codemirror_mode": {
    "name": "ipython",
    "version": 3
   },
   "file_extension": ".py",
   "mimetype": "text/x-python",
   "name": "python",
   "nbconvert_exporter": "python",
   "pygments_lexer": "ipython3",
   "version": "3.8.13"
  },
  "orig_nbformat": 4,
  "vscode": {
   "interpreter": {
    "hash": "af599ae762b5d1d52d04f722a25f712b8b0d8848f25ac2b5186d65c7fafecc4f"
   }
  }
 },
 "nbformat": 4,
 "nbformat_minor": 2
}
